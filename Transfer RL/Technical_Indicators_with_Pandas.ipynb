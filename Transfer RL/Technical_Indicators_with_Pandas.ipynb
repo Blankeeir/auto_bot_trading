{
 "cells": [
  {
   "cell_type": "markdown",
   "id": "7d7d5e8a",
   "metadata": {},
   "source": [
    "## Excursus: Creating Technical Indicators with Python and Pandas"
   ]
  },
  {
   "cell_type": "code",
   "execution_count": null,
   "id": "c6c4dc01",
   "metadata": {},
   "outputs": [],
   "source": [
    "import pandas as pd\n",
    "import numpy as np\n",
    "import matplotlib.pyplot as plt"
   ]
  },
  {
   "cell_type": "markdown",
   "id": "04c0e19e",
   "metadata": {},
   "source": [
    "### Loading the Dataset"
   ]
  },
  {
   "cell_type": "code",
   "execution_count": null,
   "id": "d8647094",
   "metadata": {},
   "outputs": [],
   "source": [
    "data = pd.read_csv(\"fin_data.csv\", index_col = \"Datetime\", usecols = [\"Datetime\", \"Open\", \"High\", \"Low\", \"Close\"])\n",
    "data"
   ]
  },
  {
   "cell_type": "code",
   "execution_count": null,
   "id": "43cb06e8",
   "metadata": {},
   "outputs": [],
   "source": [
    "data.index = pd.to_datetime(data.index)"
   ]
  },
  {
   "cell_type": "code",
   "execution_count": null,
   "id": "e3bdffa6",
   "metadata": {},
   "outputs": [],
   "source": [
    "data.info()"
   ]
  },
  {
   "cell_type": "code",
   "execution_count": null,
   "id": "8e6f87c6",
   "metadata": {},
   "outputs": [],
   "source": []
  },
  {
   "cell_type": "markdown",
   "id": "b5a1181c",
   "metadata": {},
   "source": [
    "### Simple Moving Averages (SMA ratio)"
   ]
  },
  {
   "cell_type": "code",
   "execution_count": null,
   "id": "3264db0a",
   "metadata": {},
   "outputs": [],
   "source": [
    "data.Close.plot()\n",
    "plt.ylabel(\"EUR/USD\")\n",
    "plt.title(\"EUR/USD FX Rate\")\n",
    "plt.show()"
   ]
  },
  {
   "cell_type": "code",
   "execution_count": null,
   "id": "03054244",
   "metadata": {},
   "outputs": [],
   "source": [
    "sma_s = 50\n",
    "sma_l = 200"
   ]
  },
  {
   "cell_type": "code",
   "execution_count": null,
   "id": "9330cc8c",
   "metadata": {},
   "outputs": [],
   "source": [
    "data[\"SMA_S\"] = data.Close.rolling(sma_s).mean()"
   ]
  },
  {
   "cell_type": "code",
   "execution_count": null,
   "id": "4123ee39",
   "metadata": {},
   "outputs": [],
   "source": [
    "data[\"SMA_L\"] = data.Close.rolling(sma_l).mean()"
   ]
  },
  {
   "cell_type": "code",
   "execution_count": null,
   "id": "34519c46",
   "metadata": {},
   "outputs": [],
   "source": [
    "data"
   ]
  },
  {
   "cell_type": "code",
   "execution_count": null,
   "id": "ca5c00fb",
   "metadata": {},
   "outputs": [],
   "source": [
    "data.loc[\"2023-07\", [\"Close\", \"SMA_S\", \"SMA_L\"]].plot(figsize = (12, 8), title = \"EUR/USD - SMA{} | SMA{}\".format(sma_s, sma_l), fontsize = 12)\n",
    "plt.legend(fontsize = 12)\n",
    "plt.show()"
   ]
  },
  {
   "cell_type": "code",
   "execution_count": null,
   "id": "8f6e9340",
   "metadata": {},
   "outputs": [],
   "source": [
    "data[\"SMA_ratio\"] = data.SMA_L / data.SMA_S\n",
    "data"
   ]
  },
  {
   "cell_type": "code",
   "execution_count": null,
   "id": "5084aa70",
   "metadata": {},
   "outputs": [],
   "source": [
    "data.loc[:, [\"SMA_ratio\"]].plot(figsize = (12, 8), title = \"EUR/USD - SMA{} | SMA{}\".format(sma_s, sma_l), fontsize = 12)\n",
    "plt.legend(fontsize = 12)\n",
    "plt.show()"
   ]
  },
  {
   "cell_type": "markdown",
   "id": "29634404",
   "metadata": {},
   "source": [
    "__SMA Definition:__\n",
    "\n",
    "SMA (Simple Moving Average): It's the average of a specified number of the most recent closing prices. For instance, a 50-period SMA is the average of the last 50 closing prices.\n",
    "\n",
    "__Parameters:__<br>\n",
    "sma_s = 50: This sets the window size for the short-term SMA to 50 periods (hours, in this case).<br>\n",
    "sma_l = 200: This sets the window size for the long-term SMA to 200 periods (hours, in this case).<br>\n",
    "\n",
    "__Calculating the Short-Term SMA:__<br>\n",
    "data[\"SMA_S\"] = data.Close.rolling(sma_s).mean():<br>\n",
    "This line calculates the 50-period SMA for the Close price.<br>\n",
    "The .rolling(sma_s) method creates a rolling window of 50 periods.<br>\n",
    "The .mean() function computes the average within this window.<br>\n",
    "The result is stored in a new column SMA_S.<br>\n",
    "\n",
    "__Calculating the Long-Term SMA:__<br>\n",
    "data[\"SMA_L\"] = data.Close.rolling(sma_l).mean():<br>\n",
    "Similarly, this line calculates the 200-period SMA for the Close price.<br>\n",
    "It uses a rolling window of 200 periods to compute the average.<br>\n",
    "The result is stored in another new column SMA_L.<br>\n",
    "\n",
    "__Calculating the SMA Ratio:__<br>\n",
    "data[\"SMA_ratio\"] = data.SMA_L / data.SMA_S:<br>\n",
    "This line calculates the ratio between the long-term SMA (SMA_L) and the short-term SMA (SMA_S).<br>\n",
    "This ratio indicates the relative position of the short-term average compared to the long-term average.<br>\n",
    "The resulting ratio is stored in a new column SMA_ratio.<br>\n",
    "\n",
    "__Purpose of the SMA Ratio:__<br>\n",
    "The SMA ratio can help identify trends in the market:<br>\n",
    "If SMA_ratio > 1: The long-term average is higher than the short-term average, possibly indicating a downward trend.<br>\n",
    "If SMA_ratio < 1: The long-term average is lower than the short-term average, possibly indicating an upward trend.<br>\n",
    "By using these calculations, you can analyze the momentum and trend direction of the EUR/USD currency pair over time."
   ]
  },
  {
   "cell_type": "code",
   "execution_count": null,
   "id": "b19be24b",
   "metadata": {},
   "outputs": [],
   "source": []
  },
  {
   "cell_type": "markdown",
   "id": "619bf785",
   "metadata": {},
   "source": [
    "### MACD Histogram"
   ]
  },
  {
   "cell_type": "code",
   "execution_count": null,
   "id": "5bc9d18e",
   "metadata": {},
   "outputs": [],
   "source": [
    "ema_s = 12 # EMA Short\n",
    "ema_l = 26 # EMA Long"
   ]
  },
  {
   "cell_type": "code",
   "execution_count": null,
   "id": "c44ffcd3",
   "metadata": {},
   "outputs": [],
   "source": [
    "data[\"EMA_S\"] = data.Close.ewm(span = ema_s, min_periods = ema_s).mean() "
   ]
  },
  {
   "cell_type": "code",
   "execution_count": null,
   "id": "47048ff5",
   "metadata": {},
   "outputs": [],
   "source": [
    "data[\"EMA_L\"] = data.Close.ewm(span = ema_l, min_periods = ema_l).mean() "
   ]
  },
  {
   "cell_type": "code",
   "execution_count": null,
   "id": "5fc44084",
   "metadata": {},
   "outputs": [],
   "source": [
    "data"
   ]
  },
  {
   "cell_type": "code",
   "execution_count": null,
   "id": "877503ae",
   "metadata": {},
   "outputs": [],
   "source": [
    "data.loc[\"2023-07\", [\"Close\", \"EMA_S\", \"EMA_L\"]].plot(figsize = (12, 8))\n",
    "plt.show()"
   ]
  },
  {
   "cell_type": "code",
   "execution_count": null,
   "id": "3604a39b",
   "metadata": {},
   "outputs": [],
   "source": [
    "data[\"MACD\"] = data.EMA_S - data.EMA_L\n",
    "data"
   ]
  },
  {
   "cell_type": "code",
   "execution_count": null,
   "id": "a73179f2",
   "metadata": {},
   "outputs": [],
   "source": [
    "signal_mw = 9 # Moving Window for Signal Line"
   ]
  },
  {
   "cell_type": "code",
   "execution_count": null,
   "id": "0248f76e",
   "metadata": {},
   "outputs": [],
   "source": [
    "data[\"MACD_Signal\"] = data.MACD.ewm(span = signal_mw, min_periods = signal_mw).mean() \n",
    "data"
   ]
  },
  {
   "cell_type": "code",
   "execution_count": null,
   "id": "a803169a",
   "metadata": {},
   "outputs": [],
   "source": [
    "data[\"MACD_hist\"] = data.MACD - data.MACD_Signal\n",
    "data"
   ]
  },
  {
   "cell_type": "code",
   "execution_count": null,
   "id": "674350a7",
   "metadata": {},
   "outputs": [],
   "source": [
    "data.loc[\"2023\", [\"MACD_hist\"]].plot(figsize = (12, 8), fontsize = 12)\n",
    "plt.legend(fontsize = 12)\n",
    "plt.show()"
   ]
  },
  {
   "cell_type": "markdown",
   "id": "e9ed4fdf",
   "metadata": {},
   "source": [
    "1. MACD (Moving Average Convergence Divergence):\n",
    "MACD is a trend-following momentum indicator that shows the relationship between two moving averages of a security’s price.<br>\n",
    "Histogram: The difference between the MACD line and the MACD Signal line. It visually represents the strength and direction of the trend.\n",
    "2. Parameters:\n",
    "ema_s = 12: This sets the period for the short-term Exponential Moving Average (EMA) to 12 periods (hours in this context).<br>\n",
    "ema_l = 26: This sets the period for the long-term EMA to 26 periods (hours in this context).\n",
    "3. Calculating the Short-Term EMA:\n",
    "data[\"EMA_S\"] = data.Close.ewm(span = ema_s, min_periods = ema_s).mean():<br>\n",
    "This calculates the 12-period EMA of the Close price.<br>\n",
    ".ewm(span = ema_s) applies an exponential weighting, giving more importance to recent data.<br>\n",
    "The .mean() function computes the average, which updates as new data points are added.\n",
    "The result is stored in a new column EMA_S.\n",
    "4. Calculating the Long-Term EMA:\n",
    "data[\"EMA_L\"] = data.Close.ewm(span = ema_l, min_periods = ema_l).mean():<br>\n",
    "Similarly, this calculates the 26-period EMA of the Close price.<br>\n",
    "It uses a longer window, giving a smoother average that reacts more slowly to price changes.\n",
    "The result is stored in a new column EMA_L.\n",
    "5. Plotting the Close Price and EMAs:\n",
    "data.loc[\"2023-07\", [\"Close\", \"EMA_S\", \"EMA_L\"]].plot(figsize = (12, 8)):<br>\n",
    "This line plots the Close price, Short-term EMA (12), and Long-term EMA (26) for July 2023.<br>\n",
    "loc[\"2023-07\"] filters the data for the specified month.<br>\n",
    "The plot helps visualize how the short and long EMAs compare to the Close price.\n",
    "6. Calculating the MACD Line:\n",
    "data[\"MACD\"] = data.EMA_S - data.EMA_L:<br>\n",
    "This line calculates the difference between the short-term EMA (EMA_S) and the long-term EMA (EMA_L).<br>\n",
    "The result is the MACD line, which oscillates above and below zero, indicating momentum direction.<br>\n",
    "The MACD line is stored in a new column MACD.\n",
    "7. Calculating the Signal Line:\n",
    "signal_mw = 9: This sets the period for the Signal line to 9 periods (hours).<br>\n",
    "data[\"MACD_Signal\"] = data.MACD.ewm(span = signal_mw, min_periods = signal_mw).mean():<br>\n",
    "The Signal line is a 9-period EMA of the MACD line.<br>\n",
    "This line smooths the MACD to make it easier to interpret trend changes.<br>\n",
    "The result is stored in a new column MACD_Signal.<br>\n",
    "8. Calculating the MACD Histogram:\n",
    "data[\"MACD_hist\"] = data.MACD - data.MACD_Signal:<br>\n",
    "The MACD Histogram is the difference between the MACD line and the Signal line.<br>\n",
    "It visually represents the momentum of the trend, with positive values indicating upward momentum and negative values indicating downward momentum.<br>\n",
    "The result is stored in a new column MACD_hist.\n",
    "9. Purpose of the MACD Histogram:\n",
    "Positive Histogram: When the MACD is above the Signal line, indicating bullish momentum.<br>\n",
    "Negative Histogram: When the MACD is below the Signal line, indicating bearish momentum.<br>\n",
    "The histogram bars help traders identify potential buy/sell signals based on the strength of the trend.<br>\n",
    "By using these calculations, you can analyze the momentum and possible trend reversals in the EUR/USD currency pair."
   ]
  },
  {
   "cell_type": "code",
   "execution_count": null,
   "id": "f7e37d4c",
   "metadata": {},
   "outputs": [],
   "source": []
  },
  {
   "cell_type": "markdown",
   "id": "3ea6df27",
   "metadata": {},
   "source": [
    "### RSI"
   ]
  },
  {
   "cell_type": "code",
   "execution_count": null,
   "id": "5d96f86b",
   "metadata": {},
   "outputs": [],
   "source": [
    "data[\"U\"] = np.where(data.Close.diff() > 0, data.Close.diff(), 0)"
   ]
  },
  {
   "cell_type": "code",
   "execution_count": null,
   "id": "3be7f3de",
   "metadata": {},
   "outputs": [],
   "source": [
    "data[\"D\"] = np.where(data.Close.diff() < 0, -data.Close.diff(), 0)"
   ]
  },
  {
   "cell_type": "code",
   "execution_count": null,
   "id": "407b98fa",
   "metadata": {},
   "outputs": [],
   "source": [
    "data"
   ]
  },
  {
   "cell_type": "code",
   "execution_count": null,
   "id": "ba7f8186",
   "metadata": {},
   "outputs": [],
   "source": [
    "periods = 20"
   ]
  },
  {
   "cell_type": "code",
   "execution_count": null,
   "id": "6833863e",
   "metadata": {},
   "outputs": [],
   "source": [
    "data[\"MA_U\"] = data.U.rolling(periods).mean()"
   ]
  },
  {
   "cell_type": "code",
   "execution_count": null,
   "id": "09aea920",
   "metadata": {},
   "outputs": [],
   "source": [
    "data[\"MA_D\"] = data.D.rolling(periods).mean()"
   ]
  },
  {
   "cell_type": "code",
   "execution_count": null,
   "id": "d1814eb2",
   "metadata": {},
   "outputs": [],
   "source": [
    "data[\"RSI\"] = data.MA_U / (data.MA_U + data.MA_D) * 100"
   ]
  },
  {
   "cell_type": "code",
   "execution_count": null,
   "id": "90159f2b",
   "metadata": {},
   "outputs": [],
   "source": [
    "data.loc[\"2023-10\", [\"Close\", \"RSI\"]].plot(figsize = (12, 8), secondary_y = \"RSI\")\n",
    "plt.show()"
   ]
  },
  {
   "cell_type": "markdown",
   "id": "0448357e",
   "metadata": {},
   "source": [
    "1. RSI (Relative Strength Index):\n",
    "RSI is a momentum oscillator that measures the speed and change of price movements. It ranges from 0 to 100 and is used to identify overbought or oversold conditions in the market.\n",
    "2. Calculating Upward and Downward Price Movements:\n",
    "data[\"U\"] = np.where(data.Close.diff() > 0, data.Close.diff(), 0):<br>\n",
    "This line calculates the difference between the current and previous close prices using data.Close.diff().<br>\n",
    "If the difference is positive (indicating a price increase), the value is recorded in the U column.<br>\n",
    "If the difference is not positive, the value in the U column is set to 0 (indicating no upward movement).<br>\n",
    "data[\"D\"] = np.where(data.Close.diff() < 0, -data.Close.diff(), 0):<br>\n",
    "Similarly, this calculates the downward price movements.<br>\n",
    "If the difference is negative (indicating a price decrease), the absolute value is recorded in the D column.<br>\n",
    "If the difference is not negative, the value in the D column is set to 0 (indicating no downward movement).<br>\n",
    "3. Setting the RSI Period:\n",
    "periods = 20:<br>\n",
    "This sets the period over which the RSI will be calculated, typically 14 or 20 periods are used.<br>\n",
    "4. Calculating the Moving Averages of Upward and Downward Movements:\n",
    "data[\"MA_U\"] = data.U.rolling(periods).mean():<br>\n",
    "This line calculates the moving average of the upward price movements over the specified period.<br>\n",
    "It creates a rolling window of 20 periods and computes the average of the U column.<br>\n",
    "The result is stored in a new column MA_U.<br>\n",
    "data[\"MA_D\"] = data.D.rolling(periods).mean():<br>\n",
    "Similarly, this calculates the moving average of the downward price movements over the specified period.<br>\n",
    "It creates a rolling window of 20 periods and computes the average of the D column.<br>\n",
    "The result is stored in a new column MA_D.\n",
    "5. Calculating the RSI:\n",
    "data[\"RSI\"] = data.MA_U / (data.MA_U + data.MA_D) * 100:<br>\n",
    "The RSI is calculated by dividing the moving average of upward movements (MA_U) by the sum of the moving averages of upward (MA_U) and downward (MA_D) movements.<br>\n",
    "This ratio is then multiplied by 100 to convert it to a percentage.<br>\n",
    "The resulting RSI value ranges from 0 to 100, indicating the strength of recent price movements.<br>\n",
    "The result is stored in a new column RSI.<br>\n",
    "6. Purpose of the RSI:\n",
    "Overbought Condition: Typically, an RSI above 70 indicates that the asset may be overbought and could be due for a correction or pullback.<br>\n",
    "Oversold Condition: An RSI below 30 suggests that the asset may be oversold and could be due for a rebound.<br>\n",
    "Trend Indicator: RSI values between 30 and 70 can also indicate the strength of the current trend, with values closer to 50 suggesting a more neutral momentum.<br>\n",
    "\n",
    "By using this RSI calculation, traders can analyze whether the EUR/USD currency pair is potentially overbought or oversold, helping them make informed trading decisions."
   ]
  },
  {
   "cell_type": "code",
   "execution_count": null,
   "id": "d0e58a4e",
   "metadata": {},
   "outputs": [],
   "source": []
  },
  {
   "cell_type": "markdown",
   "id": "ffc9c571",
   "metadata": {},
   "source": [
    "### Stochastic Oscillator (difference %K minus %D)"
   ]
  },
  {
   "cell_type": "code",
   "execution_count": null,
   "id": "00e04e6f",
   "metadata": {},
   "outputs": [],
   "source": [
    "periods = 14"
   ]
  },
  {
   "cell_type": "code",
   "execution_count": null,
   "id": "0ce56061",
   "metadata": {},
   "outputs": [],
   "source": [
    "data[\"roll_low\"] = data.Low.rolling(periods).min()\n",
    "data[\"roll_high\"] = data.High.rolling(periods).max()"
   ]
  },
  {
   "cell_type": "code",
   "execution_count": null,
   "id": "a26a0ad3",
   "metadata": {},
   "outputs": [],
   "source": [
    "data"
   ]
  },
  {
   "cell_type": "code",
   "execution_count": null,
   "id": "065409bf",
   "metadata": {},
   "outputs": [],
   "source": [
    "data.loc[\"2023-10\", [\"Close\", \"roll_low\", \"roll_high\"]].plot(figsize = (12, 8), fontsize = 12)\n",
    "plt.legend(fontsize = 12)\n",
    "plt.show()"
   ]
  },
  {
   "cell_type": "code",
   "execution_count": null,
   "id": "1e8412b3",
   "metadata": {},
   "outputs": [],
   "source": [
    "data[\"K\"] = (data.Close - data.roll_low) / (data.roll_high - data.roll_low) * 100"
   ]
  },
  {
   "cell_type": "code",
   "execution_count": null,
   "id": "fe6241ef",
   "metadata": {},
   "outputs": [],
   "source": [
    "moving_av = 3"
   ]
  },
  {
   "cell_type": "code",
   "execution_count": null,
   "id": "2289078e",
   "metadata": {},
   "outputs": [],
   "source": [
    "data[\"D\"] = data.K.rolling(moving_av).mean()"
   ]
  },
  {
   "cell_type": "code",
   "execution_count": null,
   "id": "825370d5",
   "metadata": {},
   "outputs": [],
   "source": [
    "data"
   ]
  },
  {
   "cell_type": "code",
   "execution_count": null,
   "id": "823fc91c",
   "metadata": {},
   "outputs": [],
   "source": [
    "data.loc[\"2023-10-17\", [\"D\", \"K\"]].plot(figsize = (12, 8), fontsize = 12)\n",
    "plt.show()"
   ]
  },
  {
   "cell_type": "code",
   "execution_count": null,
   "id": "7e02f461",
   "metadata": {},
   "outputs": [],
   "source": [
    "(data[\"K\"] - data[\"D\"]).plot()"
   ]
  },
  {
   "cell_type": "code",
   "execution_count": null,
   "id": "15ec1291",
   "metadata": {},
   "outputs": [],
   "source": [
    "data[\"SO_diff\"] = data[\"K\"] - data[\"D\"]\n",
    "data"
   ]
  },
  {
   "cell_type": "code",
   "execution_count": null,
   "id": "9a996231",
   "metadata": {},
   "outputs": [],
   "source": [
    "data.loc[\"2023-10\", \"SO_diff\"].plot(figsize = (12, 8), fontsize = 12)\n",
    "plt.show()"
   ]
  },
  {
   "cell_type": "markdown",
   "id": "15c19f73",
   "metadata": {},
   "source": [
    "1. Stochastic Oscillator Overview:\n",
    "The Stochastic Oscillator is a momentum indicator that compares the closing price of an asset to its price range over a specified period. It is used to identify potential overbought or oversold conditions in the market.\n",
    "2. Setting the Period for Stochastic Calculation:\n",
    "periods = 14:<br>\n",
    "This sets the look-back period to 14, which is a common setting for calculating the Stochastic Oscillator.\n",
    "It will consider the last 14 periods (hours, in this context) for the calculation.\n",
    "3. Calculating the Rolling Low and High:\n",
    "data[\"roll_low\"] = data.Low.rolling(periods).min():<br>\n",
    "This line calculates the lowest low over the last 14 periods.<br>\n",
    "It creates a rolling window of 14 periods and finds the minimum value in the Low column.<br>\n",
    "The result is stored in a new column roll_low.<br>\n",
    "data[\"roll_high\"] = data.High.rolling(periods).max():<br>\n",
    "Similarly, this calculates the highest high over the last 14 periods.<br>\n",
    "It creates a rolling window of 14 periods and finds the maximum value in the High column.<br>\n",
    "The result is stored in a new column roll_high.\n",
    "4. Calculating the %K Line (Fast Stochastic Oscillator):\n",
    "data[\"K\"] = (data.Close - data.roll_low) / (data.roll_high - data.roll_low) * 100:<br>\n",
    "The %K line represents the current close price relative to the 14-period price range.<br>\n",
    "It is calculated by subtracting the 14-period low (roll_low) from the current close price and dividing the result by the difference between the 14-period high (roll_high) and the 14-period low (roll_low).<br>\n",
    "This ratio is then multiplied by 100 to convert it into a percentage, indicating the position of the close price within the 14-period range.<br>\n",
    "The result is stored in a new column K.\n",
    "5. Setting the Moving Average Period for %D Line:\n",
    "moving_av = 3:<br>\n",
    "This sets the period for calculating the %D line, which is a 3-period moving average of the %K line.\n",
    "6. Calculating the %D Line (Slow Stochastic Oscillator):\n",
    "data[\"D\"] = data.K.rolling(moving_av).mean():<br>\n",
    "The %D line is a 3-period simple moving average of the %K line.<br>\n",
    "It smooths out the %K values to provide a clearer signal.<br>\n",
    "The result is stored in a new column D.\n",
    "7. Calculating the Stochastic Oscillator Difference:\n",
    "data[\"SO_diff\"] = data[\"K\"] - data[\"D\"]:<br>\n",
    "This line calculates the difference between the %K line and the %D line.<br>\n",
    "The result is stored in a new column SO_diff.<br>\n",
    "This difference can indicate potential buy/sell signals:<br>\n",
    "Positive SO_diff: When %K is above %D, it suggests upward momentum.<br>\n",
    "Negative SO_diff: When %K is below %D, it suggests downward momentum.\n",
    "8. Purpose of the Stochastic Oscillator:\n",
    "Overbought Condition: Typically, values above 80 suggest that the asset may be overbought and could be due for a pullback.<br>\n",
    "Oversold Condition: Values below 20 suggest that the asset may be oversold and could be due for a rebound.<br>\n",
    "Trend Indicator: Crossovers of the %K and %D lines can indicate potential trend reversals or continuation.<br>\n",
    "By using these calculations, you can analyze the momentum of the EUR/USD currency pair over time and identify potential turning points in the market."
   ]
  },
  {
   "cell_type": "code",
   "execution_count": null,
   "id": "0bb90c6c",
   "metadata": {},
   "outputs": [],
   "source": []
  }
 ],
 "metadata": {
  "kernelspec": {
   "display_name": "Python 3 (ipykernel)",
   "language": "python",
   "name": "python3"
  },
  "language_info": {
   "codemirror_mode": {
    "name": "ipython",
    "version": 3
   },
   "file_extension": ".py",
   "mimetype": "text/x-python",
   "name": "python",
   "nbconvert_exporter": "python",
   "pygments_lexer": "ipython3",
   "version": "3.9.19"
  }
 },
 "nbformat": 4,
 "nbformat_minor": 5
}
